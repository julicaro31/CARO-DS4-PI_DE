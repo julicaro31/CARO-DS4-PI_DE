{
 "cells": [
  {
   "cell_type": "markdown",
   "metadata": {},
   "source": [
    "### Carga inicial de datos conectando Python con MySQL"
   ]
  },
  {
   "cell_type": "code",
   "execution_count": 1,
   "metadata": {},
   "outputs": [],
   "source": [
    "from common.load_data import load_data\n",
    "from common.transform import transform_producto,transform_sucursal\n",
    "import pandas as pd\n",
    "from common.paths import path_data,path_data_clean\n",
    "import os"
   ]
  },
  {
   "cell_type": "markdown",
   "metadata": {},
   "source": [
    "### Carga"
   ]
  },
  {
   "cell_type": "markdown",
   "metadata": {},
   "source": [
    "Se cargan los datos de la tabla producto."
   ]
  },
  {
   "cell_type": "code",
   "execution_count": 2,
   "metadata": {},
   "outputs": [
    {
     "name": "stdout",
     "output_type": "stream",
     "text": [
      "Conectado a database:  ('productos_db',)\n"
     ]
    }
   ],
   "source": [
    "df = pd.read_parquet(os.path.join(path_data,'producto.parquet'))\n",
    "transform_producto(df,'producto.csv')\n",
    "load_data(os.path.join(path_data_clean,'producto.csv'),'productos_db','producto')"
   ]
  },
  {
   "cell_type": "markdown",
   "metadata": {},
   "source": [
    "Se cargan los datos de la tabla sucursal."
   ]
  },
  {
   "cell_type": "code",
   "execution_count": 3,
   "metadata": {},
   "outputs": [
    {
     "name": "stdout",
     "output_type": "stream",
     "text": [
      "Conectado a database:  ('productos_db',)\n"
     ]
    }
   ],
   "source": [
    "df = pd.read_csv(os.path.join(path_data,'sucursal.csv'))\n",
    "transform_sucursal(df,'sucursal.csv')\n",
    "load_data(os.path.join(path_data_clean,'sucursal.csv'),'productos_db','sucursal')"
   ]
  }
 ],
 "metadata": {
  "kernelspec": {
   "display_name": "Python 3.10.8 64-bit",
   "language": "python",
   "name": "python3"
  },
  "language_info": {
   "codemirror_mode": {
    "name": "ipython",
    "version": 3
   },
   "file_extension": ".py",
   "mimetype": "text/x-python",
   "name": "python",
   "nbconvert_exporter": "python",
   "pygments_lexer": "ipython3",
   "version": "3.10.8"
  },
  "orig_nbformat": 4,
  "vscode": {
   "interpreter": {
    "hash": "aee8b7b246df8f9039afb4144a1f6fd8d2ca17a180786b69acc140d282b71a49"
   }
  }
 },
 "nbformat": 4,
 "nbformat_minor": 2
}
