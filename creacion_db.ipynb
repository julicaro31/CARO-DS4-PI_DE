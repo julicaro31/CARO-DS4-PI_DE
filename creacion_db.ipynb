{
 "cells": [
  {
   "cell_type": "markdown",
   "metadata": {},
   "source": [
    "### Creación de base de datos y tabla conectando Python con MySQL"
   ]
  },
  {
   "cell_type": "markdown",
   "metadata": {},
   "source": [
    "### Creación de base de datos"
   ]
  },
  {
   "cell_type": "markdown",
   "metadata": {},
   "source": [
    "Se importa función que crea la base de datos en MySQL."
   ]
  },
  {
   "cell_type": "code",
   "execution_count": 10,
   "metadata": {},
   "outputs": [],
   "source": [
    "from common.create_database import create_database"
   ]
  },
  {
   "cell_type": "code",
   "execution_count": 11,
   "metadata": {},
   "outputs": [
    {
     "name": "stdout",
     "output_type": "stream",
     "text": [
      "La base de datos ha sido creada\n"
     ]
    }
   ],
   "source": [
    "create_database('productos_db')"
   ]
  },
  {
   "cell_type": "markdown",
   "metadata": {},
   "source": [
    "### Creación de tablas"
   ]
  },
  {
   "cell_type": "markdown",
   "metadata": {},
   "source": [
    "Se importa función que crea las tablas en la base de datos."
   ]
  },
  {
   "cell_type": "code",
   "execution_count": 12,
   "metadata": {},
   "outputs": [],
   "source": [
    "from common.create_table import create_table"
   ]
  },
  {
   "cell_type": "markdown",
   "metadata": {},
   "source": [
    "Se definen las variables con su formato de la tabla a crear."
   ]
  },
  {
   "cell_type": "code",
   "execution_count": 13,
   "metadata": {},
   "outputs": [],
   "source": [
    "variables_producto = 'IdProducto VARCHAR(255) NOT NULL,Marca VARCHAR(255),Nombre VARCHAR(255),Presentacion VARCHAR(255), PRIMARY KEY(IdProducto)'"
   ]
  },
  {
   "cell_type": "code",
   "execution_count": 14,
   "metadata": {},
   "outputs": [],
   "source": [
    "variables_sucursal = 'IdSucursal VARCHAR(255) NOT NULL,ComercioId VARCHAR(255),BanderaId VARCHAR(255),BanderaDescripcion VARCHAR(255),ComercioRazonSocial VARCHAR(255),Provincia VARCHAR(255),Localidad VARCHAR(255),Direccion VARCHAR(255),Lat DECIMAL(13,10),Lng DECIMAL(13,10),SucursalNombre VARCHAR(255),SucursalTipo VARCHAR(255),PRIMARY KEY(IdSucursal)'"
   ]
  },
  {
   "cell_type": "code",
   "execution_count": 15,
   "metadata": {},
   "outputs": [],
   "source": [
    "variables_precio = 'IdProducto VARCHAR(255) NOT NULL,IdSucursal VARCHAR(255) NOT NULL,Precio DECIMAL(13,6),PRIMARY KEY(IdProducto,IdSucursal)'"
   ]
  },
  {
   "cell_type": "markdown",
   "metadata": {},
   "source": [
    "Se crean las tablas."
   ]
  },
  {
   "cell_type": "markdown",
   "metadata": {},
   "source": [
    "La siguiente tabla va a contener la información de los productos."
   ]
  },
  {
   "cell_type": "code",
   "execution_count": 16,
   "metadata": {},
   "outputs": [
    {
     "name": "stdout",
     "output_type": "stream",
     "text": [
      "Conectado a database:  ('productos_db',)\n",
      "Creando tabla....\n",
      "La tabla ha sido creada\n"
     ]
    }
   ],
   "source": [
    "create_table('productos_db','producto',variables_producto)"
   ]
  },
  {
   "cell_type": "markdown",
   "metadata": {},
   "source": [
    "La siguiente tabla va a contener la información de las sucursales."
   ]
  },
  {
   "cell_type": "code",
   "execution_count": 17,
   "metadata": {},
   "outputs": [
    {
     "name": "stdout",
     "output_type": "stream",
     "text": [
      "Conectado a database:  ('productos_db',)\n",
      "Creando tabla....\n",
      "La tabla ha sido creada\n"
     ]
    }
   ],
   "source": [
    "create_table('productos_db','sucursal',variables_sucursal)"
   ]
  },
  {
   "cell_type": "markdown",
   "metadata": {},
   "source": [
    "La siguiente tabla va a contener los precios actualizados de los productos."
   ]
  },
  {
   "cell_type": "code",
   "execution_count": 18,
   "metadata": {},
   "outputs": [
    {
     "name": "stdout",
     "output_type": "stream",
     "text": [
      "Conectado a database:  ('productos_db',)\n",
      "Creando tabla....\n",
      "La tabla ha sido creada\n"
     ]
    }
   ],
   "source": [
    "create_table('productos_db','precio',variables_precio)"
   ]
  },
  {
   "cell_type": "markdown",
   "metadata": {},
   "source": [
    "Se crean foreign keys."
   ]
  },
  {
   "cell_type": "code",
   "execution_count": 1,
   "metadata": {},
   "outputs": [
    {
     "name": "stdout",
     "output_type": "stream",
     "text": [
      "Conectado a database:  ('productos_db',)\n",
      "ALTER TABLE precio ADD CONSTRAINT foreign_IdSucursal FOREIGN KEY (IdSucursal) REFERENCES sucursal(IdSucursal);\n"
     ]
    }
   ],
   "source": [
    "from common.add_foreign_key import add_fk\n",
    "add_fk('IdSucursal','productos_db','precio','sucursal')"
   ]
  },
  {
   "cell_type": "code",
   "execution_count": 2,
   "metadata": {},
   "outputs": [
    {
     "name": "stdout",
     "output_type": "stream",
     "text": [
      "Conectado a database:  ('productos_db',)\n",
      "ALTER TABLE precio ADD CONSTRAINT foreign_IdProducto FOREIGN KEY (IdProducto) REFERENCES producto(IdProducto);\n"
     ]
    }
   ],
   "source": [
    "add_fk('IdProducto','productos_db','precio','producto')"
   ]
  }
 ],
 "metadata": {
  "kernelspec": {
   "display_name": "Python 3.10.8 64-bit",
   "language": "python",
   "name": "python3"
  },
  "language_info": {
   "codemirror_mode": {
    "name": "ipython",
    "version": 3
   },
   "file_extension": ".py",
   "mimetype": "text/x-python",
   "name": "python",
   "nbconvert_exporter": "python",
   "pygments_lexer": "ipython3",
   "version": "3.10.8"
  },
  "orig_nbformat": 4,
  "vscode": {
   "interpreter": {
    "hash": "aee8b7b246df8f9039afb4144a1f6fd8d2ca17a180786b69acc140d282b71a49"
   }
  }
 },
 "nbformat": 4,
 "nbformat_minor": 2
}
