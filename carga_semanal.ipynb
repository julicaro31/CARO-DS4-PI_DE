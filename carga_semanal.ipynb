{
 "cells": [
  {
   "cell_type": "code",
   "execution_count": 1,
   "metadata": {},
   "outputs": [],
   "source": [
    "import os\n",
    "import pandas as pd\n",
    "from common.paths import path_data,path_data_clean\n",
    "from common.create_table import create_table\n",
    "from common.transform import transform_semanal\n",
    "from common.load_data import load_data\n",
    "from common.update_table import update_table\n",
    "from common.drop_table import drop_table"
   ]
  },
  {
   "cell_type": "code",
   "execution_count": 2,
   "metadata": {},
   "outputs": [],
   "source": [
    "pd.options.mode.chained_assignment = None"
   ]
  },
  {
   "cell_type": "code",
   "execution_count": 3,
   "metadata": {},
   "outputs": [],
   "source": [
    "variables_precio_semanal = 'IdProducto VARCHAR(255) NOT NULL,IdSucursal VARCHAR(255) NOT NULL,Precio DECIMAL(13,6),PRIMARY KEY(IdProducto,IdSucursal)'"
   ]
  },
  {
   "cell_type": "markdown",
   "metadata": {},
   "source": [
    "### Precios Semana 20200413"
   ]
  },
  {
   "cell_type": "code",
   "execution_count": 5,
   "metadata": {},
   "outputs": [
    {
     "name": "stdout",
     "output_type": "stream",
     "text": [
      "Conectado a database:  ('productos_db',)\n",
      "Creando tabla....\n",
      "La tabla ha sido creada\n",
      "Conectado a database:  ('productos_db',)\n",
      "Insertando datos...\n",
      "Conectado a database:  ('productos_db',)\n",
      "Actualizando precios...\n",
      "Insertando nuevos productos...\n"
     ]
    }
   ],
   "source": [
    "precios_semana_413 = pd.read_csv(os.path.join(path_data,'precios_semana_20200413.csv'),encoding='UTF-16 LE')\n",
    "transform_semanal(precios_semana_413,'precios_semana_20200413.csv')\n",
    "create_table('productos_db','sem_20200413',variables_precio_semanal)\n",
    "load_data(os.path.join(path_data_clean,'precios_semana_20200413.csv'),'productos_db','sem_20200413')\n",
    "update_table('productos_db','sem_20200413')"
   ]
  },
  {
   "cell_type": "code",
   "execution_count": 6,
   "metadata": {},
   "outputs": [
    {
     "name": "stdout",
     "output_type": "stream",
     "text": [
      "Conectado a database:  ('productos_db',)\n",
      "La tabla sem_20200413 ha sido eliminada\n"
     ]
    }
   ],
   "source": [
    "drop_table('productos_db','sem_20200413')"
   ]
  },
  {
   "cell_type": "markdown",
   "metadata": {},
   "source": [
    "### Precios Semana 20200419"
   ]
  },
  {
   "cell_type": "code",
   "execution_count": 4,
   "metadata": {},
   "outputs": [
    {
     "name": "stdout",
     "output_type": "stream",
     "text": [
      "Conectado a database:  ('productos_db',)\n",
      "Creando tabla....\n",
      "La tabla ha sido creada\n",
      "Conectado a database:  ('productos_db',)\n",
      "Insertando datos...\n",
      "Conectado a database:  ('productos_db',)\n",
      "Actualizando precios...\n",
      "Insertando nuevos productos...\n"
     ]
    }
   ],
   "source": [
    "precios_semana_419 = pd.read_excel(os.path.join(path_data,\"precios_semanas_20200419_20200426.xlsx\"),sheet_name=1)\n",
    "transform_semanal(precios_semana_419,'precios_semana_20200419.csv')\n",
    "create_table('productos_db','sem_20200419',variables_precio_semanal)\n",
    "load_data(os.path.join(path_data_clean,'precios_semana_20200419.csv'),'productos_db','sem_20200419')\n",
    "update_table('productos_db','sem_20200419')"
   ]
  },
  {
   "cell_type": "code",
   "execution_count": 5,
   "metadata": {},
   "outputs": [
    {
     "name": "stdout",
     "output_type": "stream",
     "text": [
      "Conectado a database:  ('productos_db',)\n",
      "La tabla sem_20200419 ha sido eliminada\n"
     ]
    }
   ],
   "source": [
    "drop_table('productos_db','sem_20200419')"
   ]
  },
  {
   "cell_type": "markdown",
   "metadata": {},
   "source": [
    "### Precios Semana 20200426"
   ]
  },
  {
   "cell_type": "code",
   "execution_count": 6,
   "metadata": {},
   "outputs": [
    {
     "name": "stdout",
     "output_type": "stream",
     "text": [
      "Conectado a database:  ('productos_db',)\n",
      "Creando tabla....\n",
      "La tabla ha sido creada\n",
      "Conectado a database:  ('productos_db',)\n",
      "Insertando datos...\n",
      "Conectado a database:  ('productos_db',)\n",
      "Actualizando precios...\n",
      "Insertando nuevos productos...\n"
     ]
    }
   ],
   "source": [
    "precios_semana_426 = pd.read_excel(os.path.join(path_data,\"precios_semanas_20200419_20200426.xlsx\"),sheet_name=0,converters={'producto_id':str})\n",
    "transform_semanal(precios_semana_426,'precios_semana_20200426.csv')\n",
    "create_table('productos_db','sem_20200426',variables_precio_semanal)\n",
    "load_data(os.path.join(path_data_clean,'precios_semana_20200426.csv'),'productos_db','sem_20200426')\n",
    "update_table('productos_db','sem_20200426')"
   ]
  },
  {
   "cell_type": "code",
   "execution_count": 7,
   "metadata": {},
   "outputs": [
    {
     "name": "stdout",
     "output_type": "stream",
     "text": [
      "Conectado a database:  ('productos_db',)\n",
      "La tabla sem_20200426 ha sido eliminada\n"
     ]
    }
   ],
   "source": [
    "drop_table('productos_db','sem_20200426')"
   ]
  },
  {
   "cell_type": "markdown",
   "metadata": {},
   "source": [
    "### Precios Semana 20200503"
   ]
  },
  {
   "cell_type": "code",
   "execution_count": 8,
   "metadata": {},
   "outputs": [
    {
     "name": "stdout",
     "output_type": "stream",
     "text": [
      "Conectado a database:  ('productos_db',)\n",
      "Creando tabla....\n",
      "La tabla ha sido creada\n",
      "Conectado a database:  ('productos_db',)\n",
      "Insertando datos...\n",
      "Conectado a database:  ('productos_db',)\n",
      "Actualizando precios...\n",
      "Insertando nuevos productos...\n"
     ]
    }
   ],
   "source": [
    "precios_semana_503 = pd.read_json(os.path.join(path_data,\"precios_semana_20200503.json\"))\n",
    "transform_semanal(precios_semana_503,'precios_semana_20200503.csv')\n",
    "create_table('productos_db','sem_20200503',variables_precio_semanal)\n",
    "load_data(os.path.join(path_data_clean,'precios_semana_20200503.csv'),'productos_db','sem_20200503')\n",
    "update_table('productos_db','sem_20200503')"
   ]
  },
  {
   "cell_type": "code",
   "execution_count": 9,
   "metadata": {},
   "outputs": [
    {
     "name": "stdout",
     "output_type": "stream",
     "text": [
      "Conectado a database:  ('productos_db',)\n",
      "La tabla sem_20200503 ha sido eliminada\n"
     ]
    }
   ],
   "source": [
    "drop_table('productos_db','sem_20200503')"
   ]
  },
  {
   "cell_type": "markdown",
   "metadata": {},
   "source": [
    "### Precios Semana 20200518"
   ]
  },
  {
   "cell_type": "code",
   "execution_count": 10,
   "metadata": {},
   "outputs": [
    {
     "name": "stdout",
     "output_type": "stream",
     "text": [
      "Conectado a database:  ('productos_db',)\n",
      "Creando tabla....\n",
      "La tabla ha sido creada\n",
      "Conectado a database:  ('productos_db',)\n",
      "Conectado a database:  ('productos_db',)\n",
      "Actualizando precios...\n",
      "Insertando nuevos productos...\n"
     ]
    }
   ],
   "source": [
    "precios_semana_518 = pd.read_csv(os.path.join(path_data,\"precios_semana_20200518.txt\"),sep=\"|\")\n",
    "transform_semanal(precios_semana_518,'precios_semana_20200518.csv')\n",
    "create_table('productos_db','sem_20200518',variables_precio_semanal)\n",
    "load_data(os.path.join(path_data_clean,'precios_semana_20200518.csv'),'productos_db','sem_20200518')\n",
    "update_table('productos_db','sem_20200518')"
   ]
  },
  {
   "cell_type": "code",
   "execution_count": 17,
   "metadata": {},
   "outputs": [
    {
     "name": "stdout",
     "output_type": "stream",
     "text": [
      "Conectado a database:  ('productos_db',)\n",
      "La tabla sem_20200518 ha sido eliminada\n"
     ]
    }
   ],
   "source": [
    "drop_table('productos_db','sem_20200518')"
   ]
  }
 ],
 "metadata": {
  "kernelspec": {
   "display_name": "Python 3.10.8 64-bit",
   "language": "python",
   "name": "python3"
  },
  "language_info": {
   "codemirror_mode": {
    "name": "ipython",
    "version": 3
   },
   "file_extension": ".py",
   "mimetype": "text/x-python",
   "name": "python",
   "nbconvert_exporter": "python",
   "pygments_lexer": "ipython3",
   "version": "3.10.8"
  },
  "orig_nbformat": 4,
  "vscode": {
   "interpreter": {
    "hash": "aee8b7b246df8f9039afb4144a1f6fd8d2ca17a180786b69acc140d282b71a49"
   }
  }
 },
 "nbformat": 4,
 "nbformat_minor": 2
}
